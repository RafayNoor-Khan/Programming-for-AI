{
 "cells": [
  {
   "cell_type": "markdown",
   "metadata": {},
   "source": [
    "#### Python code to read image"
   ]
  },
  {
   "cell_type": "code",
   "execution_count": null,
   "metadata": {},
   "outputs": [],
   "source": [
    "import cv2\n",
    "img = cv2.imread(\"pic.png\", cv2.IMREAD_COLOR)\n",
    "cv2.imshow(\"image\", img)\n",
    "cv2.waitKey(0)\n",
    "cv2.destroyAllWindows()\n"
   ]
  },
  {
   "cell_type": "markdown",
   "metadata": {},
   "source": [
    "### Python program to explain cv2.imshow() method"
   ]
  },
  {
   "cell_type": "code",
   "execution_count": null,
   "metadata": {},
   "outputs": [],
   "source": [
    "path = r'pic.png'\n",
    "image = cv2.imread(path)\n",
    "window_name = 'image'\n",
    "\n",
    "cv2.imshow(window_name, image)\n",
    "cv2.waitKey(0)\n",
    "\n",
    "cv2.destroyAllWindows()\n"
   ]
  },
  {
   "cell_type": "markdown",
   "metadata": {},
   "source": [
    "Visualizing the different color channels of an RGB image. "
   ]
  },
  {
   "cell_type": "code",
   "execution_count": null,
   "metadata": {},
   "outputs": [],
   "source": [
    "image = cv2.imread('pic.png') \n",
    "B, G, R = cv2.split(image) \n",
    "cv2.imshow(\"original\", image) \n",
    "cv2.waitKey(0) \n",
    "\n",
    "cv2.imshow(\"blue\", B) \n",
    "cv2.waitKey(0) \n",
    "\n",
    "cv2.imshow(\"Green\", G) \n",
    "cv2.waitKey(0) \n",
    "\n",
    "cv2.imshow(\"red\", R) \n",
    "cv2.waitKey(0) \n",
    "\n",
    "cv2.destroyAllWindows() \n"
   ]
  },
  {
   "cell_type": "markdown",
   "metadata": {},
   "source": [
    "\n",
    "Arithmetic Operations on Images using OpenCV | Set-1 (Addition and Subtraction)"
   ]
  },
  {
   "cell_type": "code",
   "execution_count": null,
   "metadata": {},
   "outputs": [],
   "source": [
    "import numpy as np \n",
    "\t\n",
    "image1 = cv2.imread('pic1.jpg') \n",
    "image2 = cv2.imread('pic2.jpg') \n",
    "\n",
    "weightedSum = cv2.addWeighted(image1, 0.5, image2, 0.4, 0) \n",
    "\n",
    "cv2.imshow('Weighted Image', weightedSum) \n",
    "if cv2.waitKey(0) & 0xff == 27: \n",
    "\tcv2.destroyAllWindows() \n"
   ]
  },
  {
   "cell_type": "code",
   "execution_count": null,
   "metadata": {},
   "outputs": [],
   "source": [
    "image1 = cv2.imread('pic1.jpg') \n",
    "image2 = cv2.imread('pic2.jpg') \n",
    "\n",
    "\n",
    "sub = cv2.subtract(image1, image2) \n",
    " \n",
    "cv2.imshow('Subtracted Image', sub) \n",
    "if cv2.waitKey(0) & 0xff == 27: \n",
    "\tcv2.destroyAllWindows() \n"
   ]
  },
  {
   "cell_type": "markdown",
   "metadata": {},
   "source": [
    "#### Bitwise AND operation on Image:"
   ]
  },
  {
   "cell_type": "code",
   "execution_count": null,
   "metadata": {},
   "outputs": [],
   "source": [
    "img1 = cv2.imread('pic1.jpg') \n",
    "img2 = cv2.imread('pic2.jpg') \n",
    "dest_and = cv2.bitwise_and(img2, img1, mask = None) \n",
    "\n",
    "cv2.imshow('Bitwise And', dest_and) \n",
    "\n",
    "if cv2.waitKey(0) & 0xff == 27: \n",
    "\tcv2.destroyAllWindows() \n"
   ]
  },
  {
   "cell_type": "markdown",
   "metadata": {},
   "source": [
    "### Bitwise OR operation on Image:"
   ]
  },
  {
   "cell_type": "code",
   "execution_count": null,
   "metadata": {},
   "outputs": [],
   "source": [
    "\n",
    "img1 = cv2.imread('pic1.jpg') \n",
    "img2 = cv2.imread('pic2.jpg') \n",
    " \n",
    "dest_or = cv2.bitwise_or(img2, img1, mask = None) \n",
    "\n",
    "cv2.imshow('Bitwise OR', dest_or) \n",
    "\n",
    "if cv2.waitKey(0) & 0xff == 27: \n",
    "\tcv2.destroyAllWindows() \n"
   ]
  },
  {
   "cell_type": "markdown",
   "metadata": {},
   "source": [
    "### Bitwise XOR operation on Image:\n"
   ]
  },
  {
   "cell_type": "code",
   "execution_count": null,
   "metadata": {},
   "outputs": [],
   "source": [
    "\n",
    "img1 = cv2.imread('pic1.jpg') \n",
    "img2 = cv2.imread('pic2.jpg') \n",
    "\n",
    "dest_xor = cv2.bitwise_xor(img1, img2, mask = None) \n",
    "\n",
    "cv2.imshow('Bitwise XOR', dest_xor) \n",
    "\n",
    "if cv2.waitKey(0) & 0xff == 27: \n",
    "\tcv2.destroyAllWindows() \n"
   ]
  },
  {
   "cell_type": "markdown",
   "metadata": {},
   "source": [
    "### Bitwise not operation on Image:\n"
   ]
  },
  {
   "cell_type": "code",
   "execution_count": null,
   "metadata": {},
   "outputs": [],
   "source": [
    "\n",
    "img1 = cv2.imread('pic1.jpg') \n",
    "img2 = cv2.imread('pic2.jpg') \n",
    "dest_not1 = cv2.bitwise_not(img1, mask = None) \n",
    "dest_not2 = cv2.bitwise_not(img2, mask = None) \n",
    "cv2.imshow('Bitwise NOT on image 1', dest_not1) \n",
    "cv2.imshow('Bitwise NOT on image 2', dest_not2) \n",
    "if cv2.waitKey(0) & 0xff == 27: \n",
    "\tcv2.destroyAllWindows() \n"
   ]
  },
  {
   "cell_type": "markdown",
   "metadata": {},
   "source": [
    "### Image Resizing"
   ]
  },
  {
   "cell_type": "code",
   "execution_count": null,
   "metadata": {},
   "outputs": [
    {
     "ename": "SyntaxError",
     "evalue": "source code string cannot contain null bytes (<string>)",
     "output_type": "error",
     "traceback": [
      "Traceback \u001b[1;36m(most recent call last)\u001b[0m:\n",
      "\u001b[0m  File \u001b[0;32mc:\\Users\\Rafay Noor\\OneDrive\\Documents\\4th Semester\\PAI\\opencv\\venv\\Lib\\site-packages\\IPython\\core\\interactiveshell.py:3579\u001b[0m in \u001b[0;35mrun_code\u001b[0m\n    exec(code_obj, self.user_global_ns, self.user_ns)\u001b[0m\n",
      "\u001b[0m  Cell \u001b[0;32mIn[10], line 2\u001b[0m\n    import matplotlib.pyplot as plt\u001b[0m\n",
      "\u001b[1;36m  File \u001b[1;32mc:\\Users\\Rafay Noor\\OneDrive\\Documents\\4th Semester\\PAI\\opencv\\venv\\Lib\\site-packages\\matplotlib\\__init__.py:161\u001b[1;36m\n\u001b[1;33m    from . import _api, _version, cbook, _docstring, rcsetup\u001b[1;36m\n",
      "\u001b[1;36m  File \u001b[1;32m<string>\u001b[1;36m\u001b[0m\n\u001b[1;31mSyntaxError\u001b[0m\u001b[1;31m:\u001b[0m source code string cannot contain null bytes\n"
     ]
    }
   ],
   "source": [
    "import cv2\n",
    "import matplotlib.pyplot as plt\n",
    "\n",
    "image = cv2.imread(r\"pic.png\", 1)\n",
    "\n",
    "half = cv2.resize(image, (0, 0), fx = 0.1, fy = 0.1)\n",
    "bigger = cv2.resize(image, (1050, 1610))\n",
    "\n",
    "stretch_near = cv2.resize(image, (780, 540), \n",
    "               interpolation = cv2.INTER_LINEAR)\n",
    "\n",
    "\n",
    "Titles =[\"Original\", \"Half\", \"Bigger\", \"Interpolation Nearest\"]\n",
    "images =[image, half, bigger, stretch_near]\n",
    "count = 4\n",
    "\n",
    "for i in range(count):\n",
    "    plt.subplot(2, 2, i + 1)\n",
    "    plt.title(Titles[i])\n",
    "    plt.imshow(images[i])\n",
    "\n",
    "plt.show()\n"
   ]
  },
  {
   "cell_type": "code",
   "execution_count": null,
   "metadata": {},
   "outputs": [],
   "source": []
  },
  {
   "cell_type": "code",
   "execution_count": null,
   "metadata": {},
   "outputs": [],
   "source": []
  },
  {
   "cell_type": "code",
   "execution_count": null,
   "metadata": {},
   "outputs": [],
   "source": []
  },
  {
   "cell_type": "code",
   "execution_count": null,
   "metadata": {},
   "outputs": [],
   "source": []
  },
  {
   "cell_type": "code",
   "execution_count": null,
   "metadata": {},
   "outputs": [],
   "source": []
  }
 ],
 "metadata": {
  "kernelspec": {
   "display_name": "venv",
   "language": "python",
   "name": "python3"
  },
  "language_info": {
   "codemirror_mode": {
    "name": "ipython",
    "version": 3
   },
   "file_extension": ".py",
   "mimetype": "text/x-python",
   "name": "python",
   "nbconvert_exporter": "python",
   "pygments_lexer": "ipython3",
   "version": "3.11.8"
  }
 },
 "nbformat": 4,
 "nbformat_minor": 2
}
